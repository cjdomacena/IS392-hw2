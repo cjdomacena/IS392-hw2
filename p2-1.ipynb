{
 "cells": [
  {
   "cell_type": "code",
   "execution_count": 1,
   "metadata": {},
   "outputs": [],
   "source": [
    "import numpy as np\n",
    "import pandas as pd\n",
    "import random\n",
    "from sklearn import tree\n",
    "from sklearn.feature_extraction.text import CountVectorizer\n",
    "from sklearn.model_selection import KFold\n",
    "from sklearn.ensemble import RandomForestClassifier, GradientBoostingClassifier\n",
    "import graphviz\n",
    "import matplotlib.pyplot as plt\n",
    "\n",
    "plt.rcParams[\"figure.figsize\"] = (10,10)"
   ]
  },
  {
   "cell_type": "code",
   "execution_count": 2,
   "metadata": {},
   "outputs": [
    {
     "data": {
      "text/html": [
       "<div>\n",
       "<style scoped>\n",
       "    .dataframe tbody tr th:only-of-type {\n",
       "        vertical-align: middle;\n",
       "    }\n",
       "\n",
       "    .dataframe tbody tr th {\n",
       "        vertical-align: top;\n",
       "    }\n",
       "\n",
       "    .dataframe thead th {\n",
       "        text-align: right;\n",
       "    }\n",
       "</style>\n",
       "<table border=\"1\" class=\"dataframe\">\n",
       "  <thead>\n",
       "    <tr style=\"text-align: right;\">\n",
       "      <th></th>\n",
       "      <th>ArticleId</th>\n",
       "      <th>Text</th>\n",
       "      <th>Category</th>\n",
       "    </tr>\n",
       "  </thead>\n",
       "  <tbody>\n",
       "    <tr>\n",
       "      <th>0</th>\n",
       "      <td>1833</td>\n",
       "      <td>worldcom ex-boss launches defence lawyers defe...</td>\n",
       "      <td>business</td>\n",
       "    </tr>\n",
       "    <tr>\n",
       "      <th>1</th>\n",
       "      <td>154</td>\n",
       "      <td>german business confidence slides german busin...</td>\n",
       "      <td>business</td>\n",
       "    </tr>\n",
       "    <tr>\n",
       "      <th>2</th>\n",
       "      <td>1101</td>\n",
       "      <td>bbc poll indicates economic gloom citizens in ...</td>\n",
       "      <td>business</td>\n",
       "    </tr>\n",
       "    <tr>\n",
       "      <th>3</th>\n",
       "      <td>1976</td>\n",
       "      <td>lifestyle  governs mobile choice  faster  bett...</td>\n",
       "      <td>tech</td>\n",
       "    </tr>\n",
       "    <tr>\n",
       "      <th>4</th>\n",
       "      <td>917</td>\n",
       "      <td>enron bosses in $168m payout eighteen former e...</td>\n",
       "      <td>business</td>\n",
       "    </tr>\n",
       "    <tr>\n",
       "      <th>...</th>\n",
       "      <td>...</td>\n",
       "      <td>...</td>\n",
       "      <td>...</td>\n",
       "    </tr>\n",
       "    <tr>\n",
       "      <th>1485</th>\n",
       "      <td>857</td>\n",
       "      <td>double eviction from big brother model caprice...</td>\n",
       "      <td>entertainment</td>\n",
       "    </tr>\n",
       "    <tr>\n",
       "      <th>1486</th>\n",
       "      <td>325</td>\n",
       "      <td>dj double act revamp chart show dj duo jk and ...</td>\n",
       "      <td>entertainment</td>\n",
       "    </tr>\n",
       "    <tr>\n",
       "      <th>1487</th>\n",
       "      <td>1590</td>\n",
       "      <td>weak dollar hits reuters revenues at media gro...</td>\n",
       "      <td>business</td>\n",
       "    </tr>\n",
       "    <tr>\n",
       "      <th>1488</th>\n",
       "      <td>1587</td>\n",
       "      <td>apple ipod family expands market apple has exp...</td>\n",
       "      <td>tech</td>\n",
       "    </tr>\n",
       "    <tr>\n",
       "      <th>1489</th>\n",
       "      <td>538</td>\n",
       "      <td>santy worm makes unwelcome visit thousands of ...</td>\n",
       "      <td>tech</td>\n",
       "    </tr>\n",
       "  </tbody>\n",
       "</table>\n",
       "<p>1490 rows × 3 columns</p>\n",
       "</div>"
      ],
      "text/plain": [
       "      ArticleId                                               Text  \\\n",
       "0          1833  worldcom ex-boss launches defence lawyers defe...   \n",
       "1           154  german business confidence slides german busin...   \n",
       "2          1101  bbc poll indicates economic gloom citizens in ...   \n",
       "3          1976  lifestyle  governs mobile choice  faster  bett...   \n",
       "4           917  enron bosses in $168m payout eighteen former e...   \n",
       "...         ...                                                ...   \n",
       "1485        857  double eviction from big brother model caprice...   \n",
       "1486        325  dj double act revamp chart show dj duo jk and ...   \n",
       "1487       1590  weak dollar hits reuters revenues at media gro...   \n",
       "1488       1587  apple ipod family expands market apple has exp...   \n",
       "1489        538  santy worm makes unwelcome visit thousands of ...   \n",
       "\n",
       "           Category  \n",
       "0          business  \n",
       "1          business  \n",
       "2          business  \n",
       "3              tech  \n",
       "4          business  \n",
       "...             ...  \n",
       "1485  entertainment  \n",
       "1486  entertainment  \n",
       "1487       business  \n",
       "1488           tech  \n",
       "1489           tech  \n",
       "\n",
       "[1490 rows x 3 columns]"
      ]
     },
     "execution_count": 2,
     "metadata": {},
     "output_type": "execute_result"
    }
   ],
   "source": [
    "# Load Data\n",
    "\n",
    "train_data = pd.read_csv(\"news-train-1.csv\")\n",
    "test_data = pd.read_csv(\"news-train-1.csv\")\n",
    "\n",
    "train_data"
   ]
  },
  {
   "cell_type": "code",
   "execution_count": 3,
   "metadata": {},
   "outputs": [],
   "source": [
    "# Shuffle Data\n",
    "\n",
    "train_data = train_data.sample(frac=1).reset_index(drop=True)\n",
    "test_data = test_data.sample(frac=1).reset_index(drop=True)"
   ]
  },
  {
   "cell_type": "code",
   "execution_count": 4,
   "metadata": {},
   "outputs": [],
   "source": [
    "# X/Y Split\n",
    "\n",
    "train_data_x = train_data[\"Text\"]\n",
    "train_data_y = train_data[\"Category\"]\n",
    "\n",
    "test_data_x = test_data[\"Text\"]"
   ]
  },
  {
   "cell_type": "code",
   "execution_count": 5,
   "metadata": {},
   "outputs": [
    {
     "name": "stdout",
     "output_type": "stream",
     "text": [
      "(1490, 24746)\n",
      "(1490, 24746)\n"
     ]
    }
   ],
   "source": [
    "vectorizer = CountVectorizer()\n",
    "train_data_x = vectorizer.fit_transform(train_data_x)\n",
    "test_data_x = vectorizer.transform(test_data_x)\n",
    "\n",
    "print(train_data_x.shape)\n",
    "print(test_data_x.shape)"
   ]
  },
  {
   "cell_type": "code",
   "execution_count": 6,
   "metadata": {},
   "outputs": [
    {
     "name": "stdout",
     "output_type": "stream",
     "text": [
      "Depth: 1\n",
      "Avg Train Acc: 0.32164429530201344\tAvg Val Acc: 0.2859060402684564\n",
      "Depth: 11\n",
      "Avg Train Acc: 0.9110738255033558\tAvg Val Acc: 0.7805369127516778\n",
      "Depth: 21\n",
      "Avg Train Acc: 0.9958053691275168\tAvg Val Acc: 0.8020134228187918\n",
      "Depth: 31\n",
      "Avg Train Acc: 1.0\tAvg Val Acc: 0.8100671140939598\n",
      "Depth: 41\n",
      "Avg Train Acc: 1.0\tAvg Val Acc: 0.8134228187919463\n",
      "Depth: 51\n",
      "Avg Train Acc: 1.0\tAvg Val Acc: 0.8147651006711409\n",
      "Depth: 61\n",
      "Avg Train Acc: 1.0\tAvg Val Acc: 0.8114093959731544\n",
      "Depth: 71\n",
      "Avg Train Acc: 1.0\tAvg Val Acc: 0.8174496644295302\n",
      "Depth: 81\n",
      "Avg Train Acc: 1.0\tAvg Val Acc: 0.8060402684563759\n",
      "Depth: 91\n",
      "Avg Train Acc: 1.0\tAvg Val Acc: 0.8053691275167786\n",
      "Depth: 101\n",
      "Avg Train Acc: 1.0\tAvg Val Acc: 0.8140939597315435\n",
      "Depth: 111\n",
      "Avg Train Acc: 1.0\tAvg Val Acc: 0.8073825503355703\n",
      "Depth: 121\n",
      "Avg Train Acc: 1.0\tAvg Val Acc: 0.8114093959731544\n",
      "Depth: 131\n",
      "Avg Train Acc: 1.0\tAvg Val Acc: 0.8020134228187918\n",
      "Depth: 141\n",
      "Avg Train Acc: 1.0\tAvg Val Acc: 0.8093959731543624\n",
      "Depth: 151\n",
      "Avg Train Acc: 1.0\tAvg Val Acc: 0.8093959731543624\n"
     ]
    },
    {
     "data": {
      "text/plain": [
       "<matplotlib.legend.Legend at 0x7f35446efdf0>"
      ]
     },
     "execution_count": 6,
     "metadata": {},
     "output_type": "execute_result"
    },
    {
     "data": {
      "image/png": "[encoded data removed]",
      "text/plain": [
       "<Figure size 720x720 with 1 Axes>"
      ]
     },
     "metadata": {
      "needs_background": "light"
     },
     "output_type": "display_data"
    }
   ],
   "source": [
    "# Decision Tree\n",
    "dt = None\n",
    "\n",
    "def train_dt(depths, train_data_x, train_data_y):\n",
    "    global dt\n",
    "    train_acc_all = []\n",
    "    val_acc_all = []\n",
    "\n",
    "    kf = KFold(n_splits = 5)\n",
    "\n",
    "    for d in depths:\n",
    "        print(f\"Depth: {d}\")\n",
    "        train_acc = []\n",
    "        val_acc = []\n",
    "        for train_index, val_index in kf.split(train_data_x):\n",
    "            train_x = train_data_x[train_index,:]\n",
    "            val_x = train_data_x[val_index,:]\n",
    "\n",
    "            train_y = train_data_y[train_index]\n",
    "            val_y = train_data_y[val_index]\n",
    "\n",
    "            dt = tree.DecisionTreeClassifier(max_depth=d, criterion=\"gini\")\n",
    "            dt.fit(train_x, train_y)\n",
    "\n",
    "            train_acc.append(dt.score(train_x, train_y))\n",
    "            val_acc.append(dt.score(val_x, val_y))\n",
    "\n",
    "        avg_tacc = np.mean(np.array(train_acc))\n",
    "        avg_vacc = np.mean(np.array(val_acc))\n",
    "\n",
    "        print(f\"Avg Train Acc: {avg_tacc}\\tAvg Val Acc: {avg_vacc}\")\n",
    "\n",
    "        train_acc_all.append(avg_tacc)\n",
    "        val_acc_all.append(avg_vacc)\n",
    "\n",
    "    return train_acc_all, val_acc_all\n",
    "    \n",
    "\n",
    "# depths = [10, 25, 50, 75, 100, 125, 150]\n",
    "dt_depths = [x for x in range(1,152,10)]\n",
    "dt_tacc, dt_vacc = train_dt(dt_depths, train_data_x, train_data_y)\n",
    "\n",
    "plt.plot(dt_depths, dt_tacc, marker='.', label=\"Training accuracy\")\n",
    "plt.plot(dt_depths, dt_vacc, marker='.', label=\"Validation accuracy\")\n",
    "plt.xlabel('Depth of tree')\n",
    "plt.ylabel('Accuracy')\n",
    "plt.legend()"
   ]
  },
  {
   "cell_type": "code",
   "execution_count": 7,
   "metadata": {},
   "outputs": [
    {
     "name": "stderr",
     "output_type": "stream",
     "text": [
      "/home/ubuntu/anaconda3/envs/tf/lib/python3.9/site-packages/sklearn/utils/deprecation.py:87: FutureWarning: Function get_feature_names is deprecated; get_feature_names is deprecated in 1.0 and will be removed in 1.2. Please use get_feature_names_out instead.\n",
      "  warnings.warn(msg, category=FutureWarning)\n"
     ]
    },
    {
     "data": {
      "image/svg+xml": "<?xml version=\"1.0\" encoding=\"UTF-8\" standalone=\"no\"?>\n<!DOCTYPE svg PUBLIC \"-//W3C//DTD SVG 1.1//EN\"\n \"http://www.w3.org/Graphics/SVG/1.1/DTD/svg11.dtd\">\n<!-- Generated by graphviz version 2.40.1 (20161225.0304)\n -->\n<!-- Title: Tree Pages: 1 -->\n<svg width=\"1074pt\" height=\"520pt\"\n viewBox=\"0.00 0.00 1073.50 520.00\" xmlns=\"http://www.w3.org/2000/svg\" xmlns:xlink=\"http://www.w3.org/1999/xlink\">\n<g id=\"graph0\" class=\"graph\" transform=\"scale(1 1) rotate(0) translate(4 516)\">\n<title>Tree</title>\n<polygon fill=\"#ffffff\" stroke=\"transparent\" points=\"-4,4 -4,-516 1069.5,-516 1069.5,4 -4,4\"/>\n<!-- 0 -->\n<g id=\"node1\" class=\"node\">\n<title>0</title>\n<path fill=\"#fefeff\" stroke=\"#000000\" d=\"M823,-512C823,-512 632,-512 632,-512 626,-512 620,-506 620,-500 620,-500 620,-441 620,-441 620,-435 626,-429 632,-429 632,-429 823,-429 823,-429 829,-429 835,-435 835,-441 835,-441 835,-500 835,-500 835,-506 829,-512 823,-512\"/>\n<text text-anchor=\"middle\" x=\"727.5\" y=\"-496.8\" font-family=\"Helvetica,sans-Serif\" font-size=\"14.00\" fill=\"#000000\">labour &lt;= 0.5</text>\n<text text-anchor=\"middle\" x=\"727.5\" y=\"-481.8\" font-family=\"Helvetica,sans-Serif\" font-size=\"14.00\" fill=\"#000000\">gini = 0.796</text>\n<text text-anchor=\"middle\" x=\"727.5\" y=\"-466.8\" font-family=\"Helvetica,sans-Serif\" font-size=\"14.00\" fill=\"#000000\">samples = 1192</text>\n<text text-anchor=\"middle\" x=\"727.5\" y=\"-451.8\" font-family=\"Helvetica,sans-Serif\" font-size=\"14.00\" fill=\"#000000\">value = [277, 213, 213, 281, 208]</text>\n<text text-anchor=\"middle\" x=\"727.5\" y=\"-436.8\" font-family=\"Helvetica,sans-Serif\" font-size=\"14.00\" fill=\"#000000\">class = business</text>\n</g>\n<!-- 1 -->\n<g id=\"node2\" class=\"node\">\n<title>1</title>\n<path fill=\"#fcfcff\" stroke=\"#000000\" d=\"M662,-393C662,-393 471,-393 471,-393 465,-393 459,-387 459,-381 459,-381 459,-322 459,-322 459,-316 465,-310 471,-310 471,-310 662,-310 662,-310 668,-310 674,-316 674,-322 674,-322 674,-381 674,-381 674,-387 668,-393 662,-393\"/>\n<text text-anchor=\"middle\" x=\"566.5\" y=\"-377.8\" font-family=\"Helvetica,sans-Serif\" font-size=\"14.00\" fill=\"#000000\">film &lt;= 0.5</text>\n<text text-anchor=\"middle\" x=\"566.5\" y=\"-362.8\" font-family=\"Helvetica,sans-Serif\" font-size=\"14.00\" fill=\"#000000\">gini = 0.784</text>\n<text text-anchor=\"middle\" x=\"566.5\" y=\"-347.8\" font-family=\"Helvetica,sans-Serif\" font-size=\"14.00\" fill=\"#000000\">samples = 1074</text>\n<text text-anchor=\"middle\" x=\"566.5\" y=\"-332.8\" font-family=\"Helvetica,sans-Serif\" font-size=\"14.00\" fill=\"#000000\">value = [269, 210, 107, 281, 207]</text>\n<text text-anchor=\"middle\" x=\"566.5\" y=\"-317.8\" font-family=\"Helvetica,sans-Serif\" font-size=\"14.00\" fill=\"#000000\">class = business</text>\n</g>\n<!-- 0&#45;&gt;1 -->\n<g id=\"edge1\" class=\"edge\">\n<title>0&#45;&gt;1</title>\n<path fill=\"none\" stroke=\"#000000\" d=\"M671.19,-428.8796C658.1988,-419.2774 644.281,-408.9903 630.9723,-399.1534\"/>\n<polygon fill=\"#000000\" stroke=\"#000000\" points=\"632.9004,-396.2263 622.7782,-393.0969 628.7396,-401.8555 632.9004,-396.2263\"/>\n<text text-anchor=\"middle\" x=\"626.4867\" y=\"-414.1203\" font-family=\"Helvetica,sans-Serif\" font-size=\"14.00\" fill=\"#000000\">True</text>\n</g>\n<!-- 244 -->\n<g id=\"node17\" class=\"node\">\n<title>244</title>\n<path fill=\"#4fe8cb\" stroke=\"#000000\" d=\"M895,-393C895,-393 764,-393 764,-393 758,-393 752,-387 752,-381 752,-381 752,-322 752,-322 752,-316 758,-310 764,-310 764,-310 895,-310 895,-310 901,-310 907,-316 907,-322 907,-322 907,-381 907,-381 907,-387 901,-393 895,-393\"/>\n<text text-anchor=\"middle\" x=\"829.5\" y=\"-377.8\" font-family=\"Helvetica,sans-Serif\" font-size=\"14.00\" fill=\"#000000\">economist &lt;= 0.5</text>\n<text text-anchor=\"middle\" x=\"829.5\" y=\"-362.8\" font-family=\"Helvetica,sans-Serif\" font-size=\"14.00\" fill=\"#000000\">gini = 0.188</text>\n<text text-anchor=\"middle\" x=\"829.5\" y=\"-347.8\" font-family=\"Helvetica,sans-Serif\" font-size=\"14.00\" fill=\"#000000\">samples = 118</text>\n<text text-anchor=\"middle\" x=\"829.5\" y=\"-332.8\" font-family=\"Helvetica,sans-Serif\" font-size=\"14.00\" fill=\"#000000\">value = [8, 3, 106, 0, 1]</text>\n<text text-anchor=\"middle\" x=\"829.5\" y=\"-317.8\" font-family=\"Helvetica,sans-Serif\" font-size=\"14.00\" fill=\"#000000\">class = sport</text>\n</g>\n<!-- 0&#45;&gt;244 -->\n<g id=\"edge16\" class=\"edge\">\n<title>0&#45;&gt;244</title>\n<path fill=\"none\" stroke=\"#000000\" d=\"M763.1747,-428.8796C770.8943,-419.8733 779.1305,-410.2644 787.0803,-400.9897\"/>\n<polygon fill=\"#000000\" stroke=\"#000000\" points=\"789.8225,-403.1684 793.6731,-393.2981 784.5077,-398.6129 789.8225,-403.1684\"/>\n<text text-anchor=\"middle\" x=\"795.5905\" y=\"-414.5244\" font-family=\"Helvetica,sans-Serif\" font-size=\"14.00\" fill=\"#000000\">False</text>\n</g>\n<!-- 2 -->\n<g id=\"node3\" class=\"node\">\n<title>2</title>\n<path fill=\"#fbfbfe\" stroke=\"#000000\" d=\"M395,-274C395,-274 204,-274 204,-274 198,-274 192,-268 192,-262 192,-262 192,-203 192,-203 192,-197 198,-191 204,-191 204,-191 395,-191 395,-191 401,-191 407,-197 407,-203 407,-203 407,-262 407,-262 407,-268 401,-274 395,-274\"/>\n<text text-anchor=\"middle\" x=\"299.5\" y=\"-258.8\" font-family=\"Helvetica,sans-Serif\" font-size=\"14.00\" fill=\"#000000\">its &lt;= 0.5</text>\n<text text-anchor=\"middle\" x=\"299.5\" y=\"-243.8\" font-family=\"Helvetica,sans-Serif\" font-size=\"14.00\" fill=\"#000000\">gini = 0.767</text>\n<text text-anchor=\"middle\" x=\"299.5\" y=\"-228.8\" font-family=\"Helvetica,sans-Serif\" font-size=\"14.00\" fill=\"#000000\">samples = 940</text>\n<text text-anchor=\"middle\" x=\"299.5\" y=\"-213.8\" font-family=\"Helvetica,sans-Serif\" font-size=\"14.00\" fill=\"#000000\">value = [266, 102, 106, 281, 185]</text>\n<text text-anchor=\"middle\" x=\"299.5\" y=\"-198.8\" font-family=\"Helvetica,sans-Serif\" font-size=\"14.00\" fill=\"#000000\">class = business</text>\n</g>\n<!-- 1&#45;&gt;2 -->\n<g id=\"edge2\" class=\"edge\">\n<title>1&#45;&gt;2</title>\n<path fill=\"none\" stroke=\"#000000\" d=\"M473.1164,-309.8796C450.1492,-299.6433 425.4357,-288.6286 402.0613,-278.2108\"/>\n<polygon fill=\"#000000\" stroke=\"#000000\" points=\"403.3896,-274.971 392.8309,-274.0969 400.54,-281.3647 403.3896,-274.971\"/>\n</g>\n<!-- 229 -->\n<g id=\"node10\" class=\"node\">\n<title>229</title>\n<path fill=\"#9aeb67\" stroke=\"#000000\" d=\"M635.5,-274C635.5,-274 497.5,-274 497.5,-274 491.5,-274 485.5,-268 485.5,-262 485.5,-262 485.5,-203 485.5,-203 485.5,-197 491.5,-191 497.5,-191 497.5,-191 635.5,-191 635.5,-191 641.5,-191 647.5,-197 647.5,-203 647.5,-203 647.5,-262 647.5,-262 647.5,-268 641.5,-274 635.5,-274\"/>\n<text text-anchor=\"middle\" x=\"566.5\" y=\"-258.8\" font-family=\"Helvetica,sans-Serif\" font-size=\"14.00\" fill=\"#000000\">digital &lt;= 0.5</text>\n<text text-anchor=\"middle\" x=\"566.5\" y=\"-243.8\" font-family=\"Helvetica,sans-Serif\" font-size=\"14.00\" fill=\"#000000\">gini = 0.323</text>\n<text text-anchor=\"middle\" x=\"566.5\" y=\"-228.8\" font-family=\"Helvetica,sans-Serif\" font-size=\"14.00\" fill=\"#000000\">samples = 134</text>\n<text text-anchor=\"middle\" x=\"566.5\" y=\"-213.8\" font-family=\"Helvetica,sans-Serif\" font-size=\"14.00\" fill=\"#000000\">value = [3, 108, 1, 0, 22]</text>\n<text text-anchor=\"middle\" x=\"566.5\" y=\"-198.8\" font-family=\"Helvetica,sans-Serif\" font-size=\"14.00\" fill=\"#000000\">class = entertainment</text>\n</g>\n<!-- 1&#45;&gt;229 -->\n<g id=\"edge9\" class=\"edge\">\n<title>1&#45;&gt;229</title>\n<path fill=\"none\" stroke=\"#000000\" d=\"M566.5,-309.8796C566.5,-301.6838 566.5,-292.9891 566.5,-284.5013\"/>\n<polygon fill=\"#000000\" stroke=\"#000000\" points=\"570.0001,-284.298 566.5,-274.2981 563.0001,-284.2981 570.0001,-284.298\"/>\n</g>\n<!-- 3 -->\n<g id=\"node4\" class=\"node\">\n<title>3</title>\n<path fill=\"#adabf4\" stroke=\"#000000\" d=\"M173,-155C173,-155 12,-155 12,-155 6,-155 0,-149 0,-143 0,-143 0,-84 0,-84 0,-78 6,-72 12,-72 12,-72 173,-72 173,-72 179,-72 185,-78 185,-84 185,-84 185,-143 185,-143 185,-149 179,-155 173,-155\"/>\n<text text-anchor=\"middle\" x=\"92.5\" y=\"-139.8\" font-family=\"Helvetica,sans-Serif\" font-size=\"14.00\" fill=\"#000000\">mr &lt;= 0.5</text>\n<text text-anchor=\"middle\" x=\"92.5\" y=\"-124.8\" font-family=\"Helvetica,sans-Serif\" font-size=\"14.00\" fill=\"#000000\">gini = 0.687</text>\n<text text-anchor=\"middle\" x=\"92.5\" y=\"-109.8\" font-family=\"Helvetica,sans-Serif\" font-size=\"14.00\" fill=\"#000000\">samples = 517</text>\n<text text-anchor=\"middle\" x=\"92.5\" y=\"-94.8\" font-family=\"Helvetica,sans-Serif\" font-size=\"14.00\" fill=\"#000000\">value = [64, 70, 59, 259, 65]</text>\n<text text-anchor=\"middle\" x=\"92.5\" y=\"-79.8\" font-family=\"Helvetica,sans-Serif\" font-size=\"14.00\" fill=\"#000000\">class = business</text>\n</g>\n<!-- 2&#45;&gt;3 -->\n<g id=\"edge3\" class=\"edge\">\n<title>2&#45;&gt;3</title>\n<path fill=\"none\" stroke=\"#000000\" d=\"M227.1014,-190.8796C209.9257,-181.0056 191.4903,-170.4075 173.942,-160.3193\"/>\n<polygon fill=\"#000000\" stroke=\"#000000\" points=\"175.2716,-157.0466 164.8577,-155.0969 171.7828,-163.1152 175.2716,-157.0466\"/>\n</g>\n<!-- 124 -->\n<g id=\"node7\" class=\"node\">\n<title>124</title>\n<path fill=\"#f8ddc9\" stroke=\"#000000\" d=\"M383.5,-155C383.5,-155 215.5,-155 215.5,-155 209.5,-155 203.5,-149 203.5,-143 203.5,-143 203.5,-84 203.5,-84 203.5,-78 209.5,-72 215.5,-72 215.5,-72 383.5,-72 383.5,-72 389.5,-72 395.5,-78 395.5,-84 395.5,-84 395.5,-143 395.5,-143 395.5,-149 389.5,-155 383.5,-155\"/>\n<text text-anchor=\"middle\" x=\"299.5\" y=\"-139.8\" font-family=\"Helvetica,sans-Serif\" font-size=\"14.00\" fill=\"#000000\">software &lt;= 0.5</text>\n<text text-anchor=\"middle\" x=\"299.5\" y=\"-124.8\" font-family=\"Helvetica,sans-Serif\" font-size=\"14.00\" fill=\"#000000\">gini = 0.671</text>\n<text text-anchor=\"middle\" x=\"299.5\" y=\"-109.8\" font-family=\"Helvetica,sans-Serif\" font-size=\"14.00\" fill=\"#000000\">samples = 423</text>\n<text text-anchor=\"middle\" x=\"299.5\" y=\"-94.8\" font-family=\"Helvetica,sans-Serif\" font-size=\"14.00\" fill=\"#000000\">value = [202, 32, 47, 22, 120]</text>\n<text text-anchor=\"middle\" x=\"299.5\" y=\"-79.8\" font-family=\"Helvetica,sans-Serif\" font-size=\"14.00\" fill=\"#000000\">class = tech</text>\n</g>\n<!-- 2&#45;&gt;124 -->\n<g id=\"edge6\" class=\"edge\">\n<title>2&#45;&gt;124</title>\n<path fill=\"none\" stroke=\"#000000\" d=\"M299.5,-190.8796C299.5,-182.6838 299.5,-173.9891 299.5,-165.5013\"/>\n<polygon fill=\"#000000\" stroke=\"#000000\" points=\"303.0001,-165.298 299.5,-155.2981 296.0001,-165.2981 303.0001,-165.298\"/>\n</g>\n<!-- 4 -->\n<g id=\"node5\" class=\"node\">\n<title>4</title>\n<path fill=\"#c0c0c0\" stroke=\"#000000\" d=\"M71.5,-36C71.5,-36 41.5,-36 41.5,-36 35.5,-36 29.5,-30 29.5,-24 29.5,-24 29.5,-12 29.5,-12 29.5,-6 35.5,0 41.5,0 41.5,0 71.5,0 71.5,0 77.5,0 83.5,-6 83.5,-12 83.5,-12 83.5,-24 83.5,-24 83.5,-30 77.5,-36 71.5,-36\"/>\n<text text-anchor=\"middle\" x=\"56.5\" y=\"-14.3\" font-family=\"Helvetica,sans-Serif\" font-size=\"14.00\" fill=\"#000000\">(...)</text>\n</g>\n<!-- 3&#45;&gt;4 -->\n<g id=\"edge4\" class=\"edge\">\n<title>3&#45;&gt;4</title>\n<path fill=\"none\" stroke=\"#000000\" d=\"M76.8146,-71.8901C73.4739,-63.0279 70.025,-53.8788 66.9386,-45.6913\"/>\n<polygon fill=\"#000000\" stroke=\"#000000\" points=\"70.1877,-44.3878 63.3853,-36.2651 63.6376,-46.8569 70.1877,-44.3878\"/>\n</g>\n<!-- 87 -->\n<g id=\"node6\" class=\"node\">\n<title>87</title>\n<path fill=\"#c0c0c0\" stroke=\"#000000\" d=\"M143.5,-36C143.5,-36 113.5,-36 113.5,-36 107.5,-36 101.5,-30 101.5,-24 101.5,-24 101.5,-12 101.5,-12 101.5,-6 107.5,0 113.5,0 113.5,0 143.5,0 143.5,0 149.5,0 155.5,-6 155.5,-12 155.5,-12 155.5,-24 155.5,-24 155.5,-30 149.5,-36 143.5,-36\"/>\n<text text-anchor=\"middle\" x=\"128.5\" y=\"-14.3\" font-family=\"Helvetica,sans-Serif\" font-size=\"14.00\" fill=\"#000000\">(...)</text>\n</g>\n<!-- 3&#45;&gt;87 -->\n<g id=\"edge5\" class=\"edge\">\n<title>3&#45;&gt;87</title>\n<path fill=\"none\" stroke=\"#000000\" d=\"M108.1854,-71.8901C111.5261,-63.0279 114.975,-53.8788 118.0614,-45.6913\"/>\n<polygon fill=\"#000000\" stroke=\"#000000\" points=\"121.3624,-46.8569 121.6147,-36.2651 114.8123,-44.3878 121.3624,-46.8569\"/>\n</g>\n<!-- 125 -->\n<g id=\"node8\" class=\"node\">\n<title>125</title>\n<path fill=\"#c0c0c0\" stroke=\"#000000\" d=\"M278.5,-36C278.5,-36 248.5,-36 248.5,-36 242.5,-36 236.5,-30 236.5,-24 236.5,-24 236.5,-12 236.5,-12 236.5,-6 242.5,0 248.5,0 248.5,0 278.5,0 278.5,0 284.5,0 290.5,-6 290.5,-12 290.5,-12 290.5,-24 290.5,-24 290.5,-30 284.5,-36 278.5,-36\"/>\n<text text-anchor=\"middle\" x=\"263.5\" y=\"-14.3\" font-family=\"Helvetica,sans-Serif\" font-size=\"14.00\" fill=\"#000000\">(...)</text>\n</g>\n<!-- 124&#45;&gt;125 -->\n<g id=\"edge7\" class=\"edge\">\n<title>124&#45;&gt;125</title>\n<path fill=\"none\" stroke=\"#000000\" d=\"M283.8146,-71.8901C280.4739,-63.0279 277.025,-53.8788 273.9386,-45.6913\"/>\n<polygon fill=\"#000000\" stroke=\"#000000\" points=\"277.1877,-44.3878 270.3853,-36.2651 270.6376,-46.8569 277.1877,-44.3878\"/>\n</g>\n<!-- 224 -->\n<g id=\"node9\" class=\"node\">\n<title>224</title>\n<path fill=\"#c0c0c0\" stroke=\"#000000\" d=\"M350.5,-36C350.5,-36 320.5,-36 320.5,-36 314.5,-36 308.5,-30 308.5,-24 308.5,-24 308.5,-12 308.5,-12 308.5,-6 314.5,0 320.5,0 320.5,0 350.5,0 350.5,0 356.5,0 362.5,-6 362.5,-12 362.5,-12 362.5,-24 362.5,-24 362.5,-30 356.5,-36 350.5,-36\"/>\n<text text-anchor=\"middle\" x=\"335.5\" y=\"-14.3\" font-family=\"Helvetica,sans-Serif\" font-size=\"14.00\" fill=\"#000000\">(...)</text>\n</g>\n<!-- 124&#45;&gt;224 -->\n<g id=\"edge8\" class=\"edge\">\n<title>124&#45;&gt;224</title>\n<path fill=\"none\" stroke=\"#000000\" d=\"M315.1854,-71.8901C318.5261,-63.0279 321.975,-53.8788 325.0614,-45.6913\"/>\n<polygon fill=\"#000000\" stroke=\"#000000\" points=\"328.3624,-46.8569 328.6147,-36.2651 321.8123,-44.3878 328.3624,-46.8569\"/>\n</g>\n<!-- 230 -->\n<g id=\"node11\" class=\"node\">\n<title>230</title>\n<path fill=\"#89e84f\" stroke=\"#000000\" d=\"M557,-155C557,-155 426,-155 426,-155 420,-155 414,-149 414,-143 414,-143 414,-84 414,-84 414,-78 420,-72 426,-72 426,-72 557,-72 557,-72 563,-72 569,-78 569,-84 569,-84 569,-143 569,-143 569,-149 563,-155 557,-155\"/>\n<text text-anchor=\"middle\" x=\"491.5\" y=\"-139.8\" font-family=\"Helvetica,sans-Serif\" font-size=\"14.00\" fill=\"#000000\">games &lt;= 1.5</text>\n<text text-anchor=\"middle\" x=\"491.5\" y=\"-124.8\" font-family=\"Helvetica,sans-Serif\" font-size=\"14.00\" fill=\"#000000\">gini = 0.188</text>\n<text text-anchor=\"middle\" x=\"491.5\" y=\"-109.8\" font-family=\"Helvetica,sans-Serif\" font-size=\"14.00\" fill=\"#000000\">samples = 118</text>\n<text text-anchor=\"middle\" x=\"491.5\" y=\"-94.8\" font-family=\"Helvetica,sans-Serif\" font-size=\"14.00\" fill=\"#000000\">value = [3, 106, 1, 0, 8]</text>\n<text text-anchor=\"middle\" x=\"491.5\" y=\"-79.8\" font-family=\"Helvetica,sans-Serif\" font-size=\"14.00\" fill=\"#000000\">class = entertainment</text>\n</g>\n<!-- 229&#45;&gt;230 -->\n<g id=\"edge10\" class=\"edge\">\n<title>229&#45;&gt;230</title>\n<path fill=\"none\" stroke=\"#000000\" d=\"M540.2686,-190.8796C534.7627,-182.1434 528.8994,-172.8404 523.2176,-163.8253\"/>\n<polygon fill=\"#000000\" stroke=\"#000000\" points=\"526.1363,-161.8919 517.8433,-155.2981 520.2143,-165.6242 526.1363,-161.8919\"/>\n</g>\n<!-- 241 -->\n<g id=\"node14\" class=\"node\">\n<title>241</title>\n<path fill=\"#e955c9\" stroke=\"#000000\" d=\"M722,-155C722,-155 599,-155 599,-155 593,-155 587,-149 587,-143 587,-143 587,-84 587,-84 587,-78 593,-72 599,-72 599,-72 722,-72 722,-72 728,-72 734,-78 734,-84 734,-84 734,-143 734,-143 734,-149 728,-155 722,-155\"/>\n<text text-anchor=\"middle\" x=\"660.5\" y=\"-139.8\" font-family=\"Helvetica,sans-Serif\" font-size=\"14.00\" fill=\"#000000\">nominations &lt;= 0.5</text>\n<text text-anchor=\"middle\" x=\"660.5\" y=\"-124.8\" font-family=\"Helvetica,sans-Serif\" font-size=\"14.00\" fill=\"#000000\">gini = 0.219</text>\n<text text-anchor=\"middle\" x=\"660.5\" y=\"-109.8\" font-family=\"Helvetica,sans-Serif\" font-size=\"14.00\" fill=\"#000000\">samples = 16</text>\n<text text-anchor=\"middle\" x=\"660.5\" y=\"-94.8\" font-family=\"Helvetica,sans-Serif\" font-size=\"14.00\" fill=\"#000000\">value = [0, 2, 0, 0, 14]</text>\n<text text-anchor=\"middle\" x=\"660.5\" y=\"-79.8\" font-family=\"Helvetica,sans-Serif\" font-size=\"14.00\" fill=\"#000000\">class = politics</text>\n</g>\n<!-- 229&#45;&gt;241 -->\n<g id=\"edge13\" class=\"edge\">\n<title>229&#45;&gt;241</title>\n<path fill=\"none\" stroke=\"#000000\" d=\"M599.3766,-190.8796C606.4197,-181.9633 613.9293,-172.4565 621.1874,-163.268\"/>\n<polygon fill=\"#000000\" stroke=\"#000000\" points=\"624.0309,-165.3147 627.483,-155.2981 618.5379,-160.9757 624.0309,-165.3147\"/>\n</g>\n<!-- 231 -->\n<g id=\"node12\" class=\"node\">\n<title>231</title>\n<path fill=\"#c0c0c0\" stroke=\"#000000\" d=\"M446.5,-36C446.5,-36 416.5,-36 416.5,-36 410.5,-36 404.5,-30 404.5,-24 404.5,-24 404.5,-12 404.5,-12 404.5,-6 410.5,0 416.5,0 416.5,0 446.5,0 446.5,0 452.5,0 458.5,-6 458.5,-12 458.5,-12 458.5,-24 458.5,-24 458.5,-30 452.5,-36 446.5,-36\"/>\n<text text-anchor=\"middle\" x=\"431.5\" y=\"-14.3\" font-family=\"Helvetica,sans-Serif\" font-size=\"14.00\" fill=\"#000000\">(...)</text>\n</g>\n<!-- 230&#45;&gt;231 -->\n<g id=\"edge11\" class=\"edge\">\n<title>230&#45;&gt;231</title>\n<path fill=\"none\" stroke=\"#000000\" d=\"M465.3577,-71.8901C459.6062,-62.7357 453.6624,-53.2752 448.3909,-44.8847\"/>\n<polygon fill=\"#000000\" stroke=\"#000000\" points=\"451.259,-42.8706 442.9755,-36.2651 445.3318,-46.5946 451.259,-42.8706\"/>\n</g>\n<!-- 238 -->\n<g id=\"node13\" class=\"node\">\n<title>238</title>\n<path fill=\"#c0c0c0\" stroke=\"#000000\" d=\"M518.5,-36C518.5,-36 488.5,-36 488.5,-36 482.5,-36 476.5,-30 476.5,-24 476.5,-24 476.5,-12 476.5,-12 476.5,-6 482.5,0 488.5,0 488.5,0 518.5,0 518.5,0 524.5,0 530.5,-6 530.5,-12 530.5,-12 530.5,-24 530.5,-24 530.5,-30 524.5,-36 518.5,-36\"/>\n<text text-anchor=\"middle\" x=\"503.5\" y=\"-14.3\" font-family=\"Helvetica,sans-Serif\" font-size=\"14.00\" fill=\"#000000\">(...)</text>\n</g>\n<!-- 230&#45;&gt;238 -->\n<g id=\"edge12\" class=\"edge\">\n<title>230&#45;&gt;238</title>\n<path fill=\"none\" stroke=\"#000000\" d=\"M496.7285,-71.8901C497.8176,-63.2227 498.9412,-54.2808 499.9525,-46.2325\"/>\n<polygon fill=\"#000000\" stroke=\"#000000\" points=\"503.4308,-46.6235 501.2049,-36.2651 496.4854,-45.7507 503.4308,-46.6235\"/>\n</g>\n<!-- 242 -->\n<g id=\"node15\" class=\"node\">\n<title>242</title>\n<path fill=\"#c0c0c0\" stroke=\"#000000\" d=\"M615.5,-36C615.5,-36 585.5,-36 585.5,-36 579.5,-36 573.5,-30 573.5,-24 573.5,-24 573.5,-12 573.5,-12 573.5,-6 579.5,0 585.5,0 585.5,0 615.5,0 615.5,0 621.5,0 627.5,-6 627.5,-12 627.5,-12 627.5,-24 627.5,-24 627.5,-30 621.5,-36 615.5,-36\"/>\n<text text-anchor=\"middle\" x=\"600.5\" y=\"-14.3\" font-family=\"Helvetica,sans-Serif\" font-size=\"14.00\" fill=\"#000000\">(...)</text>\n</g>\n<!-- 241&#45;&gt;242 -->\n<g id=\"edge14\" class=\"edge\">\n<title>241&#45;&gt;242</title>\n<path fill=\"none\" stroke=\"#000000\" d=\"M634.3577,-71.8901C628.6062,-62.7357 622.6624,-53.2752 617.3909,-44.8847\"/>\n<polygon fill=\"#000000\" stroke=\"#000000\" points=\"620.259,-42.8706 611.9755,-36.2651 614.3318,-46.5946 620.259,-42.8706\"/>\n</g>\n<!-- 243 -->\n<g id=\"node16\" class=\"node\">\n<title>243</title>\n<path fill=\"#c0c0c0\" stroke=\"#000000\" d=\"M687.5,-36C687.5,-36 657.5,-36 657.5,-36 651.5,-36 645.5,-30 645.5,-24 645.5,-24 645.5,-12 645.5,-12 645.5,-6 651.5,0 657.5,0 657.5,0 687.5,0 687.5,0 693.5,0 699.5,-6 699.5,-12 699.5,-12 699.5,-24 699.5,-24 699.5,-30 693.5,-36 687.5,-36\"/>\n<text text-anchor=\"middle\" x=\"672.5\" y=\"-14.3\" font-family=\"Helvetica,sans-Serif\" font-size=\"14.00\" fill=\"#000000\">(...)</text>\n</g>\n<!-- 241&#45;&gt;243 -->\n<g id=\"edge15\" class=\"edge\">\n<title>241&#45;&gt;243</title>\n<path fill=\"none\" stroke=\"#000000\" d=\"M665.7285,-71.8901C666.8176,-63.2227 667.9412,-54.2808 668.9525,-46.2325\"/>\n<polygon fill=\"#000000\" stroke=\"#000000\" points=\"672.4308,-46.6235 670.2049,-36.2651 665.4854,-45.7507 672.4308,-46.6235\"/>\n</g>\n<!-- 245 -->\n<g id=\"node18\" class=\"node\">\n<title>245</title>\n<path fill=\"#47e7c9\" stroke=\"#000000\" d=\"M895,-274C895,-274 764,-274 764,-274 758,-274 752,-268 752,-262 752,-262 752,-203 752,-203 752,-197 758,-191 764,-191 764,-191 895,-191 895,-191 901,-191 907,-197 907,-203 907,-203 907,-262 907,-262 907,-268 901,-274 895,-274\"/>\n<text text-anchor=\"middle\" x=\"829.5\" y=\"-258.8\" font-family=\"Helvetica,sans-Serif\" font-size=\"14.00\" fill=\"#000000\">director &lt;= 1.5</text>\n<text text-anchor=\"middle\" x=\"829.5\" y=\"-243.8\" font-family=\"Helvetica,sans-Serif\" font-size=\"14.00\" fill=\"#000000\">gini = 0.133</text>\n<text text-anchor=\"middle\" x=\"829.5\" y=\"-228.8\" font-family=\"Helvetica,sans-Serif\" font-size=\"14.00\" fill=\"#000000\">samples = 114</text>\n<text text-anchor=\"middle\" x=\"829.5\" y=\"-213.8\" font-family=\"Helvetica,sans-Serif\" font-size=\"14.00\" fill=\"#000000\">value = [4, 3, 106, 0, 1]</text>\n<text text-anchor=\"middle\" x=\"829.5\" y=\"-198.8\" font-family=\"Helvetica,sans-Serif\" font-size=\"14.00\" fill=\"#000000\">class = sport</text>\n</g>\n<!-- 244&#45;&gt;245 -->\n<g id=\"edge17\" class=\"edge\">\n<title>244&#45;&gt;245</title>\n<path fill=\"none\" stroke=\"#000000\" d=\"M829.5,-309.8796C829.5,-301.6838 829.5,-292.9891 829.5,-284.5013\"/>\n<polygon fill=\"#000000\" stroke=\"#000000\" points=\"833.0001,-284.298 829.5,-274.2981 826.0001,-284.2981 833.0001,-284.298\"/>\n</g>\n<!-- 258 -->\n<g id=\"node25\" class=\"node\">\n<title>258</title>\n<path fill=\"#e58139\" stroke=\"#000000\" d=\"M1053.5,-266.5C1053.5,-266.5 937.5,-266.5 937.5,-266.5 931.5,-266.5 925.5,-260.5 925.5,-254.5 925.5,-254.5 925.5,-210.5 925.5,-210.5 925.5,-204.5 931.5,-198.5 937.5,-198.5 937.5,-198.5 1053.5,-198.5 1053.5,-198.5 1059.5,-198.5 1065.5,-204.5 1065.5,-210.5 1065.5,-210.5 1065.5,-254.5 1065.5,-254.5 1065.5,-260.5 1059.5,-266.5 1053.5,-266.5\"/>\n<text text-anchor=\"middle\" x=\"995.5\" y=\"-251.3\" font-family=\"Helvetica,sans-Serif\" font-size=\"14.00\" fill=\"#000000\">gini = 0.0</text>\n<text text-anchor=\"middle\" x=\"995.5\" y=\"-236.3\" font-family=\"Helvetica,sans-Serif\" font-size=\"14.00\" fill=\"#000000\">samples = 4</text>\n<text text-anchor=\"middle\" x=\"995.5\" y=\"-221.3\" font-family=\"Helvetica,sans-Serif\" font-size=\"14.00\" fill=\"#000000\">value = [4, 0, 0, 0, 0]</text>\n<text text-anchor=\"middle\" x=\"995.5\" y=\"-206.3\" font-family=\"Helvetica,sans-Serif\" font-size=\"14.00\" fill=\"#000000\">class = tech</text>\n</g>\n<!-- 244&#45;&gt;258 -->\n<g id=\"edge24\" class=\"edge\">\n<title>244&#45;&gt;258</title>\n<path fill=\"none\" stroke=\"#000000\" d=\"M887.5587,-309.8796C904.358,-297.8368 922.6599,-284.7167 939.341,-272.7586\"/>\n<polygon fill=\"#000000\" stroke=\"#000000\" points=\"941.8116,-275.2939 947.8998,-266.623 937.7332,-269.6047 941.8116,-275.2939\"/>\n</g>\n<!-- 246 -->\n<g id=\"node19\" class=\"node\">\n<title>246</title>\n<path fill=\"#40e6c7\" stroke=\"#000000\" d=\"M895,-155C895,-155 764,-155 764,-155 758,-155 752,-149 752,-143 752,-143 752,-84 752,-84 752,-78 758,-72 764,-72 764,-72 895,-72 895,-72 901,-72 907,-78 907,-84 907,-84 907,-143 907,-143 907,-149 901,-155 895,-155\"/>\n<text text-anchor=\"middle\" x=\"829.5\" y=\"-139.8\" font-family=\"Helvetica,sans-Serif\" font-size=\"14.00\" fill=\"#000000\">revised &lt;= 0.5</text>\n<text text-anchor=\"middle\" x=\"829.5\" y=\"-124.8\" font-family=\"Helvetica,sans-Serif\" font-size=\"14.00\" fill=\"#000000\">gini = 0.071</text>\n<text text-anchor=\"middle\" x=\"829.5\" y=\"-109.8\" font-family=\"Helvetica,sans-Serif\" font-size=\"14.00\" fill=\"#000000\">samples = 110</text>\n<text text-anchor=\"middle\" x=\"829.5\" y=\"-94.8\" font-family=\"Helvetica,sans-Serif\" font-size=\"14.00\" fill=\"#000000\">value = [2, 1, 106, 0, 1]</text>\n<text text-anchor=\"middle\" x=\"829.5\" y=\"-79.8\" font-family=\"Helvetica,sans-Serif\" font-size=\"14.00\" fill=\"#000000\">class = sport</text>\n</g>\n<!-- 245&#45;&gt;246 -->\n<g id=\"edge18\" class=\"edge\">\n<title>245&#45;&gt;246</title>\n<path fill=\"none\" stroke=\"#000000\" d=\"M829.5,-190.8796C829.5,-182.6838 829.5,-173.9891 829.5,-165.5013\"/>\n<polygon fill=\"#000000\" stroke=\"#000000\" points=\"833.0001,-165.298 829.5,-155.2981 826.0001,-165.2981 833.0001,-165.298\"/>\n</g>\n<!-- 255 -->\n<g id=\"node22\" class=\"node\">\n<title>255</title>\n<path fill=\"#ffffff\" stroke=\"#000000\" d=\"M1053.5,-155C1053.5,-155 937.5,-155 937.5,-155 931.5,-155 925.5,-149 925.5,-143 925.5,-143 925.5,-84 925.5,-84 925.5,-78 931.5,-72 937.5,-72 937.5,-72 1053.5,-72 1053.5,-72 1059.5,-72 1065.5,-78 1065.5,-84 1065.5,-84 1065.5,-143 1065.5,-143 1065.5,-149 1059.5,-155 1053.5,-155\"/>\n<text text-anchor=\"middle\" x=\"995.5\" y=\"-139.8\" font-family=\"Helvetica,sans-Serif\" font-size=\"14.00\" fill=\"#000000\">night &lt;= 0.5</text>\n<text text-anchor=\"middle\" x=\"995.5\" y=\"-124.8\" font-family=\"Helvetica,sans-Serif\" font-size=\"14.00\" fill=\"#000000\">gini = 0.5</text>\n<text text-anchor=\"middle\" x=\"995.5\" y=\"-109.8\" font-family=\"Helvetica,sans-Serif\" font-size=\"14.00\" fill=\"#000000\">samples = 4</text>\n<text text-anchor=\"middle\" x=\"995.5\" y=\"-94.8\" font-family=\"Helvetica,sans-Serif\" font-size=\"14.00\" fill=\"#000000\">value = [2, 2, 0, 0, 0]</text>\n<text text-anchor=\"middle\" x=\"995.5\" y=\"-79.8\" font-family=\"Helvetica,sans-Serif\" font-size=\"14.00\" fill=\"#000000\">class = tech</text>\n</g>\n<!-- 245&#45;&gt;255 -->\n<g id=\"edge21\" class=\"edge\">\n<title>245&#45;&gt;255</title>\n<path fill=\"none\" stroke=\"#000000\" d=\"M887.5587,-190.8796C900.9534,-181.2774 915.3035,-170.9903 929.0255,-161.1534\"/>\n<polygon fill=\"#000000\" stroke=\"#000000\" points=\"931.3858,-163.7678 937.474,-155.0969 927.3074,-158.0786 931.3858,-163.7678\"/>\n</g>\n<!-- 247 -->\n<g id=\"node20\" class=\"node\">\n<title>247</title>\n<path fill=\"#c0c0c0\" stroke=\"#000000\" d=\"M801.5,-36C801.5,-36 771.5,-36 771.5,-36 765.5,-36 759.5,-30 759.5,-24 759.5,-24 759.5,-12 759.5,-12 759.5,-6 765.5,0 771.5,0 771.5,0 801.5,0 801.5,0 807.5,0 813.5,-6 813.5,-12 813.5,-12 813.5,-24 813.5,-24 813.5,-30 807.5,-36 801.5,-36\"/>\n<text text-anchor=\"middle\" x=\"786.5\" y=\"-14.3\" font-family=\"Helvetica,sans-Serif\" font-size=\"14.00\" fill=\"#000000\">(...)</text>\n</g>\n<!-- 246&#45;&gt;247 -->\n<g id=\"edge19\" class=\"edge\">\n<title>246&#45;&gt;247</title>\n<path fill=\"none\" stroke=\"#000000\" d=\"M810.7647,-71.8901C806.7305,-62.9305 802.5643,-53.6777 798.8469,-45.4217\"/>\n<polygon fill=\"#000000\" stroke=\"#000000\" points=\"802.0212,-43.9464 794.7241,-36.2651 795.6384,-46.8204 802.0212,-43.9464\"/>\n</g>\n<!-- 252 -->\n<g id=\"node21\" class=\"node\">\n<title>252</title>\n<path fill=\"#c0c0c0\" stroke=\"#000000\" d=\"M873.5,-36C873.5,-36 843.5,-36 843.5,-36 837.5,-36 831.5,-30 831.5,-24 831.5,-24 831.5,-12 831.5,-12 831.5,-6 837.5,0 843.5,0 843.5,0 873.5,0 873.5,0 879.5,0 885.5,-6 885.5,-12 885.5,-12 885.5,-24 885.5,-24 885.5,-30 879.5,-36 873.5,-36\"/>\n<text text-anchor=\"middle\" x=\"858.5\" y=\"-14.3\" font-family=\"Helvetica,sans-Serif\" font-size=\"14.00\" fill=\"#000000\">(...)</text>\n</g>\n<!-- 246&#45;&gt;252 -->\n<g id=\"edge20\" class=\"edge\">\n<title>246&#45;&gt;252</title>\n<path fill=\"none\" stroke=\"#000000\" d=\"M842.1355,-71.8901C844.797,-63.1253 847.5438,-54.0798 850.0091,-45.9615\"/>\n<polygon fill=\"#000000\" stroke=\"#000000\" points=\"853.3968,-46.8507 852.9535,-36.2651 846.6988,-44.8167 853.3968,-46.8507\"/>\n</g>\n<!-- 256 -->\n<g id=\"node23\" class=\"node\">\n<title>256</title>\n<path fill=\"#c0c0c0\" stroke=\"#000000\" d=\"M974.5,-36C974.5,-36 944.5,-36 944.5,-36 938.5,-36 932.5,-30 932.5,-24 932.5,-24 932.5,-12 932.5,-12 932.5,-6 938.5,0 944.5,0 944.5,0 974.5,0 974.5,0 980.5,0 986.5,-6 986.5,-12 986.5,-12 986.5,-24 986.5,-24 986.5,-30 980.5,-36 974.5,-36\"/>\n<text text-anchor=\"middle\" x=\"959.5\" y=\"-14.3\" font-family=\"Helvetica,sans-Serif\" font-size=\"14.00\" fill=\"#000000\">(...)</text>\n</g>\n<!-- 255&#45;&gt;256 -->\n<g id=\"edge22\" class=\"edge\">\n<title>255&#45;&gt;256</title>\n<path fill=\"none\" stroke=\"#000000\" d=\"M979.8146,-71.8901C976.4739,-63.0279 973.025,-53.8788 969.9386,-45.6913\"/>\n<polygon fill=\"#000000\" stroke=\"#000000\" points=\"973.1877,-44.3878 966.3853,-36.2651 966.6376,-46.8569 973.1877,-44.3878\"/>\n</g>\n<!-- 257 -->\n<g id=\"node24\" class=\"node\">\n<title>257</title>\n<path fill=\"#c0c0c0\" stroke=\"#000000\" d=\"M1046.5,-36C1046.5,-36 1016.5,-36 1016.5,-36 1010.5,-36 1004.5,-30 1004.5,-24 1004.5,-24 1004.5,-12 1004.5,-12 1004.5,-6 1010.5,0 1016.5,0 1016.5,0 1046.5,0 1046.5,0 1052.5,0 1058.5,-6 1058.5,-12 1058.5,-12 1058.5,-24 1058.5,-24 1058.5,-30 1052.5,-36 1046.5,-36\"/>\n<text text-anchor=\"middle\" x=\"1031.5\" y=\"-14.3\" font-family=\"Helvetica,sans-Serif\" font-size=\"14.00\" fill=\"#000000\">(...)</text>\n</g>\n<!-- 255&#45;&gt;257 -->\n<g id=\"edge23\" class=\"edge\">\n<title>255&#45;&gt;257</title>\n<path fill=\"none\" stroke=\"#000000\" d=\"M1011.1854,-71.8901C1014.5261,-63.0279 1017.975,-53.8788 1021.0614,-45.6913\"/>\n<polygon fill=\"#000000\" stroke=\"#000000\" points=\"1024.3624,-46.8569 1024.6147,-36.2651 1017.8123,-44.3878 1024.3624,-46.8569\"/>\n</g>\n</g>\n</svg>\n",
      "text/plain": [
       "<graphviz.sources.Source at 0x7f3544a096a0>"
      ]
     },
     "execution_count": 7,
     "metadata": {},
     "output_type": "execute_result"
    }
   ],
   "source": [
    "dot_data = tree.export_graphviz(dt, max_depth=3, filled=True, rounded=True, feature_names=vectorizer.get_feature_names(), class_names=list(set(list(train_data[\"Category\"]))))\n",
    "graph = graphviz.Source(dot_data)\n",
    "graph"
   ]
  },
  {
   "cell_type": "code",
   "execution_count": 8,
   "metadata": {},
   "outputs": [
    {
     "name": "stdout",
     "output_type": "stream",
     "text": [
      "Depth: 1\n",
      "Avg Train Acc: 0.5609060402684565\tAvg Val Acc: 0.5503355704697988\n",
      "Depth: 11\n",
      "Avg Train Acc: 0.9895973154362416\tAvg Val Acc: 0.9342281879194629\n",
      "Depth: 21\n",
      "Avg Train Acc: 0.9996644295302014\tAvg Val Acc: 0.9436241610738255\n",
      "Depth: 31\n",
      "Avg Train Acc: 1.0\tAvg Val Acc: 0.9409395973154362\n",
      "Depth: 41\n",
      "Avg Train Acc: 1.0\tAvg Val Acc: 0.9422818791946309\n",
      "Depth: 51\n",
      "Avg Train Acc: 1.0\tAvg Val Acc: 0.9429530201342281\n",
      "Depth: 61\n",
      "Avg Train Acc: 1.0\tAvg Val Acc: 0.9436241610738254\n",
      "Depth: 71\n",
      "Avg Train Acc: 1.0\tAvg Val Acc: 0.9442953020134228\n",
      "Depth: 81\n",
      "Avg Train Acc: 1.0\tAvg Val Acc: 0.9510067114093961\n",
      "Depth: 91\n",
      "Avg Train Acc: 1.0\tAvg Val Acc: 0.9395973154362416\n",
      "Depth: 101\n",
      "Avg Train Acc: 1.0\tAvg Val Acc: 0.9416107382550336\n",
      "Depth: 111\n",
      "Avg Train Acc: 1.0\tAvg Val Acc: 0.946979865771812\n",
      "Depth: 121\n",
      "Avg Train Acc: 1.0\tAvg Val Acc: 0.948993288590604\n",
      "Depth: 131\n",
      "Avg Train Acc: 1.0\tAvg Val Acc: 0.946979865771812\n",
      "Depth: 141\n",
      "Avg Train Acc: 1.0\tAvg Val Acc: 0.9449664429530202\n",
      "Depth: 151\n",
      "Avg Train Acc: 1.0\tAvg Val Acc: 0.9442953020134229\n"
     ]
    },
    {
     "data": {
      "text/plain": [
       "<matplotlib.legend.Legend at 0x7f3550dbcc10>"
      ]
     },
     "execution_count": 8,
     "metadata": {},
     "output_type": "execute_result"
    },
    {
     "data": {
      "image/png": "[encoded data removed]",
      "text/plain": [
       "<Figure size 720x720 with 1 Axes>"
      ]
     },
     "metadata": {
      "needs_background": "light"
     },
     "output_type": "display_data"
    }
   ],
   "source": [
    "# Random Forest\n",
    "rf = None\n",
    "\n",
    "\n",
    "def train_rf(depths, train_data_x, train_data_y):\n",
    "    global rf\n",
    "    train_acc_all = []\n",
    "    val_acc_all = []\n",
    "\n",
    "    kf = KFold(n_splits = 5)\n",
    "\n",
    "    for d in depths:\n",
    "        print(f\"Depth: {d}\")\n",
    "        train_acc = []\n",
    "        val_acc = []\n",
    "        for train_index, val_index in kf.split(train_data_x):\n",
    "            train_x = train_data_x[train_index,:]\n",
    "            val_x = train_data_x[val_index,:]\n",
    "\n",
    "            train_y = train_data_y[train_index]\n",
    "            val_y = train_data_y[val_index]\n",
    "\n",
    "            rf = RandomForestClassifier(n_estimators=100, criterion=\"gini\", max_depth=d)\n",
    "            rf.fit(train_x, train_y)\n",
    "\n",
    "            train_acc.append(rf.score(train_x, train_y))\n",
    "            val_acc.append(rf.score(val_x, val_y))\n",
    "\n",
    "        avg_tacc = np.mean(np.array(train_acc))\n",
    "        avg_vacc = np.mean(np.array(val_acc))\n",
    "\n",
    "        print(f\"Avg Train Acc: {avg_tacc}\\tAvg Val Acc: {avg_vacc}\")\n",
    "\n",
    "        train_acc_all.append(avg_tacc)\n",
    "        val_acc_all.append(avg_vacc)\n",
    "\n",
    "    return train_acc_all, val_acc_all\n",
    "    \n",
    "\n",
    "# depths = [10, 25, 50, 75, 100, 125, 150]\n",
    "rf_depths = [x for x in range(1,152,10)]\n",
    "rf_tacc, rf_vacc = train_rf(rf_depths, train_data_x, train_data_y)\n",
    "\n",
    "plt.plot(rf_depths, rf_tacc, marker='.', label=\"Training accuracy\")\n",
    "plt.plot(rf_depths, rf_vacc, marker='.', label=\"Validation accuracy\")\n",
    "plt.xlabel('Depth of tree')\n",
    "plt.ylabel('Accuracy')\n",
    "plt.legend()"
   ]
  },
  {
   "cell_type": "code",
   "execution_count": 18,
   "metadata": {},
   "outputs": [
    {
     "name": "stdout",
     "output_type": "stream",
     "text": [
      "Depth: 1\n",
      "Avg Train Acc: 0.9788590604026846\tAvg Val Acc: 0.9288590604026845\n",
      "Depth: 11\n"
     ]
    }
   ],
   "source": [
    "# Gradient Boosting Trees\n",
    "\n",
    "gbt = None\n",
    "\n",
    "def train_gbt(depths, train_data_x, train_data_y):\n",
    "    global gbt\n",
    "    train_acc_all = []\n",
    "    val_acc_all = []\n",
    "\n",
    "    kf = KFold(n_splits = 5)\n",
    "\n",
    "    for d in depths:\n",
    "        print(f\"Depth: {d}\")\n",
    "        train_acc = []\n",
    "        val_acc = []\n",
    "        for train_index, val_index in kf.split(train_data_x):\n",
    "            train_x = train_data_x[train_index,:]\n",
    "            val_x = train_data_x[val_index,:]\n",
    "\n",
    "            train_y = train_data_y[train_index]\n",
    "            val_y = train_data_y[val_index]\n",
    "\n",
    "            gbt = GradientBoostingClassifier(n_estimators=25, criterion=\"squared_error\", max_depth=d)\n",
    "            gbt.fit(train_x, train_y)\n",
    "\n",
    "            train_acc.append(gbt.score(train_x, train_y))\n",
    "            val_acc.append(gbt.score(val_x, val_y))\n",
    "\n",
    "        avg_tacc = np.mean(np.array(train_acc))\n",
    "        avg_vacc = np.mean(np.array(val_acc))\n",
    "\n",
    "        print(f\"Avg Train Acc: {avg_tacc}\\tAvg Val Acc: {avg_vacc}\")\n",
    "\n",
    "        train_acc_all.append(avg_tacc)\n",
    "        val_acc_all.append(avg_vacc)\n",
    "\n",
    "    return train_acc_all, val_acc_all\n",
    "    \n",
    "\n",
    "gbt_depths = [10, 25, 50, 75, 100, 125, 150]\n",
    "gbt_tacc, gbt_vacc = train_gbt(gbt_depths, train_data_x, train_data_y)\n",
    "\n",
    "plt.plot(gbt_depths, gbt_tacc, marker='.', label=\"Training accuracy\")\n",
    "plt.plot(gbt_depths, gbt_vacc, marker='.', label=\"Validation accuracy\")\n",
    "plt.xlabel('Depth of tree')\n",
    "plt.ylabel('Accuracy')\n",
    "plt.legend()"
   ]
  },
  {
   "cell_type": "code",
   "execution_count": 9,
   "metadata": {},
   "outputs": [],
   "source": [
    "ret = rf.predict(test_data_x)"
   ]
  },
  {
   "cell_type": "code",
   "execution_count": 21,
   "metadata": {},
   "outputs": [
    {
     "data": {
      "text/html": [
       "<div>\n",
       "<style scoped>\n",
       "    .dataframe tbody tr th:only-of-type {\n",
       "        vertical-align: middle;\n",
       "    }\n",
       "\n",
       "    .dataframe tbody tr th {\n",
       "        vertical-align: top;\n",
       "    }\n",
       "\n",
       "    .dataframe thead th {\n",
       "        text-align: right;\n",
       "    }\n",
       "</style>\n",
       "<table border=\"1\" class=\"dataframe\">\n",
       "  <thead>\n",
       "    <tr style=\"text-align: right;\">\n",
       "      <th></th>\n",
       "      <th>Pred</th>\n",
       "    </tr>\n",
       "    <tr>\n",
       "      <th>ArticleId</th>\n",
       "      <th></th>\n",
       "    </tr>\n",
       "  </thead>\n",
       "  <tbody>\n",
       "    <tr>\n",
       "      <th>1761</th>\n",
       "      <td>sport</td>\n",
       "    </tr>\n",
       "    <tr>\n",
       "      <th>1453</th>\n",
       "      <td>tech</td>\n",
       "    </tr>\n",
       "    <tr>\n",
       "      <th>1308</th>\n",
       "      <td>sport</td>\n",
       "    </tr>\n",
       "    <tr>\n",
       "      <th>685</th>\n",
       "      <td>sport</td>\n",
       "    </tr>\n",
       "    <tr>\n",
       "      <th>1229</th>\n",
       "      <td>tech</td>\n",
       "    </tr>\n",
       "    <tr>\n",
       "      <th>...</th>\n",
       "      <td>...</td>\n",
       "    </tr>\n",
       "    <tr>\n",
       "      <th>1401</th>\n",
       "      <td>tech</td>\n",
       "    </tr>\n",
       "    <tr>\n",
       "      <th>1725</th>\n",
       "      <td>tech</td>\n",
       "    </tr>\n",
       "    <tr>\n",
       "      <th>307</th>\n",
       "      <td>sport</td>\n",
       "    </tr>\n",
       "    <tr>\n",
       "      <th>1337</th>\n",
       "      <td>entertainment</td>\n",
       "    </tr>\n",
       "    <tr>\n",
       "      <th>1726</th>\n",
       "      <td>business</td>\n",
       "    </tr>\n",
       "  </tbody>\n",
       "</table>\n",
       "<p>1490 rows × 1 columns</p>\n",
       "</div>"
      ],
      "text/plain": [
       "                    Pred\n",
       "ArticleId               \n",
       "1761               sport\n",
       "1453                tech\n",
       "1308               sport\n",
       "685                sport\n",
       "1229                tech\n",
       "...                  ...\n",
       "1401                tech\n",
       "1725                tech\n",
       "307                sport\n",
       "1337       entertainment\n",
       "1726            business\n",
       "\n",
       "[1490 rows x 1 columns]"
      ]
     },
     "execution_count": 21,
     "metadata": {},
     "output_type": "execute_result"
    }
   ],
   "source": [
    "id_pred = list(zip(list(test_data[\"ArticleId\"]), list(ret)))\n",
    "id_pred = pd.DataFrame()\n",
    "id_pred[\"ArticleId\"] = test_data[\"ArticleId\"]\n",
    "id_pred[\"Pred\"] = list(ret)\n",
    "id_pred.set_index(\"ArticleId\")"
   ]
  },
  {
   "cell_type": "code",
   "execution_count": 22,
   "metadata": {},
   "outputs": [],
   "source": [
    "id_pred.to_csv(\"out.csv\", header=False)"
   ]
  }
 ],
 "metadata": {
  "interpreter": {
   "hash": "03ca22c6d6d40835e149a115b42423f5eef12d1ffe1b81219c8386ff45d860ad"
  },
  "kernelspec": {
   "display_name": "Python 3.9.7 64-bit ('tf': conda)",
   "name": "python3"
  },
  "language_info": {
   "codemirror_mode": {
    "name": "ipython",
    "version": 3
   },
   "file_extension": ".py",
   "mimetype": "text/x-python",
   "name": "python",
   "nbconvert_exporter": "python",
   "pygments_lexer": "ipython3",
   "version": "3.9.7"
  },
  "orig_nbformat": 4
 },
 "nbformat": 4,
 "nbformat_minor": 2
}
