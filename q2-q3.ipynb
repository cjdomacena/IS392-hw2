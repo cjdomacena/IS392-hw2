{
 "cells": [
  {
   "cell_type": "code",
   "execution_count": 1,
   "metadata": {},
   "outputs": [],
   "source": [
    "import pandas as pd\n",
    "import numpy as np\n",
    "import matplotlib.pyplot as plt\n",
    "import string\n",
    "import nltk\n",
    "from nltk.corpus import stopwords\n",
    "from nltk.stem.porter import *\n",
    "\n",
    "train_data = pd.read_csv('news-train.csv')\n",
    "test_data = pd.read_csv('news-test.csv')\n",
    "train_data = train_data.sample(frac=1).reset_index(drop=True)\n",
    "test_data = test_data.sample(frac=1).reset_index(drop=True)"
   ]
  },
  {
   "cell_type": "markdown",
   "metadata": {},
   "source": [
    "### Preprocessing"
   ]
  },
  {
   "cell_type": "code",
   "execution_count": 2,
   "metadata": {},
   "outputs": [
    {
     "name": "stdout",
     "output_type": "stream",
     "text": [
      "['new yuko owner russia oil firm sold sunday specul financ group emerg winner agre pay russia newspap claim front expect win sale yuko owner said sold best author made christma present russia oil compani news agenc mr say via lawyer expect win thought fail get financ deal us court take part last week yuko file 11 bankruptci protect us attempt account us judg ban take part intern bank provid firm cash financ said analyst money around deni behind front said analyst know compani link 100 tri find far know paper result sale howev bought time rais money need analyst said one pay two week time put back hand back within reach yuko plan let go unit without fight legal action yuko main sharehold group also legal action yuko claim polit face fraud charg hit tax fine mani say break firm account 20 russia oil']\n"
     ]
    }
   ],
   "source": [
    "stemmer = PorterStemmer()\n",
    "remove_punctuation_map = dict((ord(char), None) for char in string.punctuation)\n",
    "\n",
    "with open('dictionary.txt') as f:\n",
    "    dic = f.read().splitlines()\n",
    "\n",
    "\n",
    "def get_tokens(text):\n",
    "\n",
    "    lowers = text.lower()\n",
    "    no_punctuation = lowers.translate(remove_punctuation_map)\n",
    "    tokens = nltk.word_tokenize(no_punctuation)\n",
    "    filtered = [w for w in tokens if not w in stopwords.words('english')]\n",
    "    stemmed = []\n",
    "    for item in filtered:\n",
    "        stemmed.append(stemmer.stem(item))\n",
    "\n",
    "    return stemmed\n",
    "\n",
    "\n",
    "tokenized = [get_tokens(text) for text in train_data['Text']]\n",
    "\n",
    "def get_dic_words(text): \n",
    "\tcleaned = []\n",
    "\tfor word in text:\n",
    "\t\tif word in dic:\n",
    "\t\t\tcleaned.append(word)\n",
    "\treturn \" \".join(str(word) for word in cleaned)\n",
    "\n",
    "tokenized = [get_dic_words(text) for text in tokenized]\n",
    "\n",
    "print(tokenized[:1])"
   ]
  },
  {
   "cell_type": "markdown",
   "metadata": {},
   "source": [
    "### Create a new csv file that contains cleaned text from original train data"
   ]
  },
  {
   "cell_type": "code",
   "execution_count": 3,
   "metadata": {},
   "outputs": [],
   "source": [
    "# Save to a new file\n",
    "train_df = pd.DataFrame({'ArticleId': train_data['ArticleId'], 'Text': tokenized, 'Category': train_data['Category']})\n",
    "train_df.to_csv('news-train-cleaned.csv', index=False)\n",
    "\n",
    "# re-assign train data to the new cleaned data\n",
    "train_data_X = train_df['Text']\n",
    "train_data_Y = train_df['Category']"
   ]
  },
  {
   "cell_type": "markdown",
   "metadata": {},
   "source": [
    "### Q2 "
   ]
  },
  {
   "cell_type": "code",
   "execution_count": 4,
   "metadata": {},
   "outputs": [],
   "source": [
    "from sklearn.preprocessing import LabelEncoder\n",
    "\n",
    "encoder = LabelEncoder()\n",
    "train_Y = encoder.fit_transform(train_data_Y)\n",
    "\n",
    "from zeugma import EmbeddingTransformer\n",
    "\n",
    "glove = EmbeddingTransformer('glove-wiki-gigaword-100')\n",
    "glove_embedding= glove.fit_transform(train_data_X)\n",
    "\n",
    "from sklearn.pipeline import Pipeline\n",
    "from sklearn.preprocessing import StandardScaler\n",
    "from sklearn.svm import SVC\n",
    "\n",
    "pipe = Pipeline([('scaler', StandardScaler()), ('svc', SVC())])"
   ]
  },
  {
   "cell_type": "code",
   "execution_count": 5,
   "metadata": {},
   "outputs": [
    {
     "name": "stdout",
     "output_type": "stream",
     "text": [
      "{'svc__C': 11, 'svc__kernel': 'rbf'}\n"
     ]
    }
   ],
   "source": [
    "from sklearn.model_selection import GridSearchCV\n",
    "from sklearn.preprocessing import LabelEncoder\n",
    "\n",
    "svc_params = {\n",
    "\t'svc__C': range(1,101,5),\n",
    "\t'svc__kernel': ['linear', 'poly', 'rbf', 'sigmoid']\n",
    "}\n",
    "\n",
    "grid_search = GridSearchCV(pipe, svc_params, cv=5)\n",
    "grid_search.fit(glove_embedding, train_Y)\n",
    "best_params = grid_search.best_params_\n",
    "print(best_params)"
   ]
  },
  {
   "cell_type": "code",
   "execution_count": 6,
   "metadata": {},
   "outputs": [
    {
     "name": "stdout",
     "output_type": "stream",
     "text": [
      "C=1, kernel=rbf \t  Avg. Training Accuracy: 0.9726510067114094 \t Training Std. Deviation: 0.002408171156779741\n",
      "C=1, kernel=rbf \t  Avg. Validation Accuracy: 0.94496644295302 \t Validation Std. Deviation: 0.012302216630753954\n"
     ]
    },
    {
     "data": {
      "image/png": "[encoded data removed]",
      "text/plain": [
       "<Figure size 864x576 with 1 Axes>"
      ]
     },
     "metadata": {
      "needs_background": "light"
     },
     "output_type": "display_data"
    }
   ],
   "source": [
    "from sklearn.model_selection import KFold\n",
    "\n",
    "kf = KFold(n_splits=5, shuffle=True)\n",
    "train_acc = []\n",
    "val_acc = []\n",
    "for train, test in kf.split(glove_embedding):\n",
    "\tx = glove_embedding[train, :]\n",
    "\ty = train_Y[train]\n",
    "\n",
    "\tx_val = glove_embedding[test,:]\n",
    "\ty_val = train_Y[test]\n",
    "\n",
    "\tsvc = SVC(C=best_params['svc__C'], kernel=best_params['svc__kernel'])\n",
    "\tsvc.fit(x,y)\n",
    "\ttrain_acc.append(svc.score(x,y))\n",
    "\tval_acc.append(svc.score(x_val,y_val))\n",
    "\n",
    "print(\n",
    "\tf'C=1, kernel=rbf \\t  Avg. Training Accuracy: {np.mean(train_acc)} \\t Training Std. Deviation: {np.std(train_acc)}')\n",
    "print(\n",
    "    f'C=1, kernel=rbf \\t  Avg. Validation Accuracy: {np.mean(val_acc)} \\t Validation Std. Deviation: {np.std(val_acc)}')\n",
    "plt.figure(figsize=(12, 8))\n",
    "plt.plot(range(1, 6), train_acc, marker='.', label='Training Accuracy')\n",
    "plt.plot(range(1, 6), val_acc, marker='.', label='Validation Accuracy')\n",
    "plt.xlabel('Split')\n",
    "plt.xticks(range(1, 6))\n",
    "plt.ylabel('Accuracy')\n",
    "plt.legend()\n",
    "plt.title(f'SVC - Glove')\n",
    "plt.show()\n"
   ]
  },
  {
   "cell_type": "markdown",
   "metadata": {},
   "source": [
    "### Q3 "
   ]
  },
  {
   "cell_type": "code",
   "execution_count": 7,
   "metadata": {},
   "outputs": [],
   "source": [
    "# Train model w/ best params from GridSearch\n",
    "svc = SVC(C=best_params['svc__C'], kernel=best_params['svc__kernel'])\n",
    "svc.fit(glove_embedding, train_Y)\n",
    "\n",
    "# Get vectors for test data\n",
    "test_glove = glove.transform(test_data['Text'])\n",
    "\n",
    "# Predict\n",
    "prediction = svc.predict(test_glove)\n",
    "\n",
    "# Get the labels\n",
    "pred_labels = encoder.inverse_transform(prediction)\n",
    "\n",
    "# Save to file\n",
    "pred_df = pd.DataFrame()\n",
    "pred_df['ArticleId'] = test_data['ArticleId']\n",
    "pred_df['Category'] = pred_labels\n",
    "pred_df.to_csv('labels.csv', index=False, header=False)"
   ]
  }
 ],
 "metadata": {
  "interpreter": {
   "hash": "b89b5cfaba6639976dc87ff2fec6d58faec662063367e2c229c520fe71072417"
  },
  "kernelspec": {
   "display_name": "Python 3.10.0 64-bit",
   "language": "python",
   "name": "python3"
  },
  "language_info": {
   "codemirror_mode": {
    "name": "ipython",
    "version": 3
   },
   "file_extension": ".py",
   "mimetype": "text/x-python",
   "name": "python",
   "nbconvert_exporter": "python",
   "pygments_lexer": "ipython3",
   "version": "3.10.0"
  },
  "orig_nbformat": 4
 },
 "nbformat": 4,
 "nbformat_minor": 2
}
