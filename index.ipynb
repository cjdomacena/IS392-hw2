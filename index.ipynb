{
 "cells": [
  {
   "cell_type": "code",
   "execution_count": 14,
   "metadata": {},
   "outputs": [],
   "source": [
    "import pandas as pd\n",
    "import numpy as np\n",
    "import matplotlib.pyplot as plt\n",
    "\n",
    "train_data = pd.read_csv('news-train.csv')\n",
    "test_data = pd.read_csv('news-test.csv')"
   ]
  },
  {
   "cell_type": "code",
   "execution_count": 15,
   "metadata": {},
   "outputs": [],
   "source": [
    "# Shuffle data\n",
    "train_data = train_data.sample(frac=1).reset_index(drop=True)\n",
    "test_data = test_data.sample(frac=1).reset_index(drop=True)\n",
    "\n",
    "# X/Y Split\n",
    "\n",
    "# Training data\n",
    "train_data_X = train_data['Text']\n",
    "train_data_Y = train_data['Category']\n",
    "\n",
    "# Test data\n",
    "test_data_X = train_data['Text']\n",
    "\n",
    "with open('dictionary.txt') as f:\n",
    "\tdic = f.read().splitlines()\n",
    "\n"
   ]
  },
  {
   "cell_type": "markdown",
   "metadata": {},
   "source": [
    "## Q1A"
   ]
  },
  {
   "cell_type": "code",
   "execution_count": 16,
   "metadata": {},
   "outputs": [],
   "source": [
    "from sklearn.ensemble import RandomForestClassifier\n",
    "from sklearn.feature_extraction.text import CountVectorizer\n",
    "from sklearn.preprocessing import LabelEncoder\n",
    "from sklearn.model_selection import KFold\n",
    "\n",
    "cv = CountVectorizer(stop_words='english', lowercase=True,\n",
    "                     analyzer='word', vocabulary=dic)\n",
    "train_X = cv.fit_transform(train_data_X)\n",
    "feature_names = cv.get_feature_names_out()\n",
    "\n",
    "\n",
    "train_Y = LabelEncoder().fit_transform(train_data_Y)"
   ]
  },
  {
   "cell_type": "markdown",
   "metadata": {},
   "source": [
    "### Q1B - Part 1"
   ]
  },
  {
   "cell_type": "code",
   "execution_count": 17,
   "metadata": {},
   "outputs": [
    {
     "name": "stdout",
     "output_type": "stream",
     "text": [
      "Avg Train score: 1.0 \t Avg. Validation Acc 0.923489932885906\n"
     ]
    },
    {
     "data": {
      "image/png": "[encoded data removed]",
      "text/plain": [
       "<Figure size 864x576 with 1 Axes>"
      ]
     },
     "metadata": {
      "needs_background": "light"
     },
     "output_type": "display_data"
    }
   ],
   "source": [
    "train_acc = []\n",
    "val_acc = []\n",
    "kf = KFold(n_splits=5, shuffle=True)\n",
    "for train, test in kf.split(train_X):\n",
    "\n",
    "    x = train_X[train, :]\n",
    "    y = train_Y[train]\n",
    "\n",
    "    x_val = train_X[test, :]\n",
    "    y_val = train_Y[test]\n",
    "\n",
    "    rfc = RandomForestClassifier(n_estimators=100,\n",
    "                                 criterion='gini', max_depth=None, min_samples_split=2, min_samples_leaf=1)\n",
    "\n",
    "    rfc.fit(x, y)\n",
    "    train_acc.append(rfc.score(x, y))\n",
    "    val_acc.append(rfc.score(x_val, y_val))\n",
    "\n",
    "\n",
    "print(\n",
    "    f'Avg Train score: {np.mean(train_acc)} \\t Avg. Validation Acc {np.mean(val_acc)}')\n",
    "\n",
    "plt.figure(figsize=(12, 8))\n",
    "plt.plot(range(1, 6), train_acc, marker='.', label='Training Accuracy')\n",
    "plt.plot(range(1, 6), val_acc, marker='.', label='Validation Accuracy')\n",
    "plt.xlabel('Split')\n",
    "plt.xticks(range(1, 6))\n",
    "plt.ylabel('Accuracy')\n",
    "plt.legend()\n",
    "plt.title('Random Forest - Original Features')\n",
    "plt.show()\n"
   ]
  },
  {
   "cell_type": "markdown",
   "metadata": {},
   "source": [
    "#### Q1B - Part 2"
   ]
  },
  {
   "cell_type": "code",
   "execution_count": 18,
   "metadata": {},
   "outputs": [
    {
     "name": "stdout",
     "output_type": "stream",
     "text": [
      "100\n",
      "<class 'numpy.ndarray'>\n"
     ]
    }
   ],
   "source": [
    "import gensim\n",
    "import gensim.downloader\n",
    "glove_vectors = gensim.downloader.load('glove-wiki-gigaword-100')\n",
    "\n",
    "print(glove_vectors.vector_size)\n",
    "\n",
    "train_X = cv.inverse_transform(train_X)\n",
    "vocab = glove_vectors.index_to_key\n",
    "def word_to_vec(data):\n",
    "\tembeddedVec = []\n",
    "\tfor items in data:\n",
    "\t\tfor word in items:\n",
    "\t\t\tif word in vocab:\n",
    "\t\t\t\tembeddedVec.append(glove_vectors.get_vector(word))\n",
    "\treturn embeddedVec\n",
    "\n",
    "embeddedVec = np.array(word_to_vec(train_X))\n",
    "\n",
    "\n",
    "print(type(embeddedVec))\n"
   ]
  }
 ],
 "metadata": {
  "interpreter": {
   "hash": "b89b5cfaba6639976dc87ff2fec6d58faec662063367e2c229c520fe71072417"
  },
  "kernelspec": {
   "display_name": "Python 3.10.0 64-bit",
   "language": "python",
   "name": "python3"
  },
  "language_info": {
   "codemirror_mode": {
    "name": "ipython",
    "version": 3
   },
   "file_extension": ".py",
   "mimetype": "text/x-python",
   "name": "python",
   "nbconvert_exporter": "python",
   "pygments_lexer": "ipython3",
   "version": "3.10.0"
  },
  "orig_nbformat": 4
 },
 "nbformat": 4,
 "nbformat_minor": 2
}
